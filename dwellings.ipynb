{
 "cells": [
  {
   "cell_type": "markdown",
   "id": "d297a5a5",
   "metadata": {},
   "source": [
    "# Databases of Statistics Finland"
   ]
  },
  {
   "cell_type": "markdown",
   "id": "657780a8",
   "metadata": {},
   "source": [
    "Using databases of Statistics Finland, automatically updated link to a database serch result can be saved. For the databases, see https://pxnet2.stat.fi/PXWeb/pxweb/en/StatFin/."
   ]
  },
  {
   "cell_type": "markdown",
   "id": "b2ace927",
   "metadata": {},
   "source": [
    "In the following example a database search from the database \"Price index of old dwellings in housing companies (2015=100) and numbers of transactions, monthly\" is performed. The database is accessed at https://pxnet2.stat.fi/PXWeb/pxweb/en/StatFin/StatFin__asu__ashi__kk/?tablelist=true. "
   ]
  },
  {
   "cell_type": "markdown",
   "id": "f39beea0",
   "metadata": {},
   "source": [
    "In the last stage of the database search (Show the table) an automatically updated link to the search results can be saved using the choice **Save your query**."
   ]
  },
  {
   "cell_type": "code",
   "execution_count": 1,
   "id": "103ce3e5",
   "metadata": {},
   "outputs": [],
   "source": [
    "### Bring the libraries\n",
    "\n",
    "import pandas as pd\n",
    "import matplotlib.pyplot as plt\n",
    "%matplotlib inline\n",
    "\n",
    "### Use the following style\n",
    "\n",
    "plt.style.use('seaborn-whitegrid')"
   ]
  },
  {
   "cell_type": "code",
   "execution_count": 2,
   "id": "6e1b5a6b",
   "metadata": {},
   "outputs": [
    {
     "data": {
      "text/html": [
       "<div>\n",
       "<style scoped>\n",
       "    .dataframe tbody tr th:only-of-type {\n",
       "        vertical-align: middle;\n",
       "    }\n",
       "\n",
       "    .dataframe tbody tr th {\n",
       "        vertical-align: top;\n",
       "    }\n",
       "\n",
       "    .dataframe thead th {\n",
       "        text-align: right;\n",
       "    }\n",
       "</style>\n",
       "<table border=\"1\" class=\"dataframe\">\n",
       "  <thead>\n",
       "    <tr style=\"text-align: right;\">\n",
       "      <th></th>\n",
       "      <th>Month</th>\n",
       "      <th>Whole country</th>\n",
       "      <th>Greater Helsinki</th>\n",
       "      <th>Whole country excluding Greater Helsinki</th>\n",
       "    </tr>\n",
       "  </thead>\n",
       "  <tbody>\n",
       "    <tr>\n",
       "      <th>0</th>\n",
       "      <td>2015M01</td>\n",
       "      <td>2031.0</td>\n",
       "      <td>3390.0</td>\n",
       "      <td>1620.0</td>\n",
       "    </tr>\n",
       "    <tr>\n",
       "      <th>1</th>\n",
       "      <td>2015M02</td>\n",
       "      <td>2042.0</td>\n",
       "      <td>3423.0</td>\n",
       "      <td>1626.0</td>\n",
       "    </tr>\n",
       "    <tr>\n",
       "      <th>2</th>\n",
       "      <td>2015M03</td>\n",
       "      <td>2067.0</td>\n",
       "      <td>3493.0</td>\n",
       "      <td>1641.0</td>\n",
       "    </tr>\n",
       "    <tr>\n",
       "      <th>3</th>\n",
       "      <td>2015M04</td>\n",
       "      <td>2059.0</td>\n",
       "      <td>3458.0</td>\n",
       "      <td>1639.0</td>\n",
       "    </tr>\n",
       "    <tr>\n",
       "      <th>4</th>\n",
       "      <td>2015M05</td>\n",
       "      <td>2071.0</td>\n",
       "      <td>3416.0</td>\n",
       "      <td>1661.0</td>\n",
       "    </tr>\n",
       "  </tbody>\n",
       "</table>\n",
       "</div>"
      ],
      "text/plain": [
       "     Month  Whole country  Greater Helsinki  \\\n",
       "0  2015M01         2031.0            3390.0   \n",
       "1  2015M02         2042.0            3423.0   \n",
       "2  2015M03         2067.0            3493.0   \n",
       "3  2015M04         2059.0            3458.0   \n",
       "4  2015M05         2071.0            3416.0   \n",
       "\n",
       "   Whole country excluding Greater Helsinki  \n",
       "0                                    1620.0  \n",
       "1                                    1626.0  \n",
       "2                                    1641.0  \n",
       "3                                    1639.0  \n",
       "4                                    1661.0  "
      ]
     },
     "execution_count": 2,
     "metadata": {},
     "output_type": "execute_result"
    }
   ],
   "source": [
    "### Use the link you can copy after saving your query.\n",
    "\n",
    "### In this query we omit the first thre rows  and use only columns [1, 2, 3, 4]\n",
    "\n",
    "df = pd.read_excel('https://pxnet2.stat.fi:443/PXWeb/sq/8aabf31b-329d-481c-a16a-519873b1d197', skiprows = 3, usecols = [1, 2, 3, 4])\n",
    "\n",
    "### df.head()\n",
    "\n",
    "### Rename the badly named column.\n",
    "\n",
    "df = df.rename(columns = {'Unnamed: 1' : 'Month'})\n",
    "\n",
    "df.head()"
   ]
  },
  {
   "cell_type": "code",
   "execution_count": 3,
   "id": "d04b6893",
   "metadata": {},
   "outputs": [
    {
     "data": {
      "text/plain": [
       "array(['2015M01', '2015M02', '2015M03', '2015M04', '2015M05', '2015M06',\n",
       "       '2015M07', '2015M08', '2015M09', '2015M10', '2015M11', '2015M12',\n",
       "       '2016M01', '2016M02', '2016M03', '2016M04', '2016M05', '2016M06',\n",
       "       '2016M07', '2016M08', '2016M09', '2016M10', '2016M11', '2016M12',\n",
       "       '2017M01', '2017M02', '2017M03', '2017M04', '2017M05', '2017M06',\n",
       "       '2017M07', '2017M08', '2017M09', '2017M10', '2017M11', '2017M12',\n",
       "       '2018M01', '2018M02', '2018M03', '2018M04', '2018M05', '2018M06',\n",
       "       '2018M07', '2018M08', '2018M09', '2018M10', '2018M11', '2018M12',\n",
       "       '2019M01', '2019M02', '2019M03', '2019M04', '2019M05', '2019M06',\n",
       "       '2019M07', '2019M08', '2019M09', '2019M10', '2019M11', '2019M12',\n",
       "       '2020M01', '2020M02', '2020M03', '2020M04', '2020M05', '2020M06',\n",
       "       '2020M07', '2020M08', '2020M09', '2020M10', '2020M11', '2020M12',\n",
       "       '2021M01*', '2021M02*', '2021M03*', '2021M04*', '2021M05*',\n",
       "       '2021M06*', '2021M07*', '2021M08*', nan, nan, nan, nan, nan, nan,\n",
       "       nan, nan, nan, nan, nan, nan, nan, nan, nan, nan, nan, nan, nan,\n",
       "       nan, nan, nan, nan, nan, nan, nan, nan, nan, nan, nan, nan, nan,\n",
       "       nan, nan, nan, nan, nan, nan, nan, nan, nan, nan, nan, nan, nan,\n",
       "       nan, nan, nan, nan, nan, nan, nan, nan, nan, nan, nan, nan, nan,\n",
       "       nan, nan, nan, nan, nan, nan, nan, nan, nan, nan, nan, nan, nan,\n",
       "       nan, nan, nan, nan, nan], dtype=object)"
      ]
     },
     "execution_count": 3,
     "metadata": {},
     "output_type": "execute_result"
    }
   ],
   "source": [
    "### The most recent values marked by the asterisk are advanced information and may still change.\n",
    "\n",
    "df['Month'].values"
   ]
  },
  {
   "cell_type": "code",
   "execution_count": 4,
   "id": "153320cd",
   "metadata": {},
   "outputs": [
    {
     "data": {
      "text/html": [
       "<div>\n",
       "<style scoped>\n",
       "    .dataframe tbody tr th:only-of-type {\n",
       "        vertical-align: middle;\n",
       "    }\n",
       "\n",
       "    .dataframe tbody tr th {\n",
       "        vertical-align: top;\n",
       "    }\n",
       "\n",
       "    .dataframe thead th {\n",
       "        text-align: right;\n",
       "    }\n",
       "</style>\n",
       "<table border=\"1\" class=\"dataframe\">\n",
       "  <thead>\n",
       "    <tr style=\"text-align: right;\">\n",
       "      <th></th>\n",
       "      <th>Whole country</th>\n",
       "      <th>Greater Helsinki</th>\n",
       "      <th>Outside Greater Helsinki</th>\n",
       "    </tr>\n",
       "    <tr>\n",
       "      <th>Month</th>\n",
       "      <th></th>\n",
       "      <th></th>\n",
       "      <th></th>\n",
       "    </tr>\n",
       "  </thead>\n",
       "  <tbody>\n",
       "    <tr>\n",
       "      <th>2021-04-01</th>\n",
       "      <td>2234.0</td>\n",
       "      <td>4055.0</td>\n",
       "      <td>1706.0</td>\n",
       "    </tr>\n",
       "    <tr>\n",
       "      <th>2021-05-01</th>\n",
       "      <td>2262.0</td>\n",
       "      <td>4148.0</td>\n",
       "      <td>1720.0</td>\n",
       "    </tr>\n",
       "    <tr>\n",
       "      <th>2021-06-01</th>\n",
       "      <td>2264.0</td>\n",
       "      <td>4196.0</td>\n",
       "      <td>1713.0</td>\n",
       "    </tr>\n",
       "    <tr>\n",
       "      <th>2021-07-01</th>\n",
       "      <td>2267.0</td>\n",
       "      <td>4116.0</td>\n",
       "      <td>1731.0</td>\n",
       "    </tr>\n",
       "    <tr>\n",
       "      <th>2021-08-01</th>\n",
       "      <td>2294.0</td>\n",
       "      <td>4164.0</td>\n",
       "      <td>1753.0</td>\n",
       "    </tr>\n",
       "  </tbody>\n",
       "</table>\n",
       "</div>"
      ],
      "text/plain": [
       "            Whole country  Greater Helsinki  Outside Greater Helsinki\n",
       "Month                                                                \n",
       "2021-04-01         2234.0            4055.0                    1706.0\n",
       "2021-05-01         2262.0            4148.0                    1720.0\n",
       "2021-06-01         2264.0            4196.0                    1713.0\n",
       "2021-07-01         2267.0            4116.0                    1731.0\n",
       "2021-08-01         2294.0            4164.0                    1753.0"
      ]
     },
     "execution_count": 4,
     "metadata": {},
     "output_type": "execute_result"
    }
   ],
   "source": [
    "### Remove rows with missing values.\n",
    "\n",
    "df = df.dropna(subset = ['Month'])\n",
    "\n",
    "### Remove asterisks from month labels\n",
    "\n",
    "df['Month'] = df['Month'].astype(str).str.strip('*')\n",
    "\n",
    "### Add time labels to the index. Note the format where the capital letter M is between the year Y and the month m.\n",
    "\n",
    "df.index = pd.to_datetime(df['Month'], format = '%YM%m')\n",
    "\n",
    "### Remove the obsolete column Month\n",
    "\n",
    "df = df.drop('Month', axis = 1)\n",
    "\n",
    "### Shorten column names for easier use.\n",
    "\n",
    "df.columns = ['Whole country', 'Greater Helsinki', 'Outside Greater Helsinki']\n",
    "\n",
    "df.tail()"
   ]
  },
  {
   "cell_type": "markdown",
   "id": "6010a64c",
   "metadata": {},
   "source": [
    "Finally draw lines charts of prices in Greater Helsinki and Outside Greater Helsinki areas."
   ]
  },
  {
   "cell_type": "code",
   "execution_count": 7,
   "id": "ec201be6",
   "metadata": {},
   "outputs": [
    {
     "data": {
      "text/plain": [
       "Text(0, 0.5, 'Outside Greater Helsinki area')"
      ]
     },
     "execution_count": 7,
     "metadata": {},
     "output_type": "execute_result"
    },
    {
     "data": {
      "image/png": "[encoded data removed]",
      "text/plain": [
       "<Figure size 432x288 with 2 Axes>"
      ]
     },
     "metadata": {},
     "output_type": "display_data"
    }
   ],
   "source": [
    "### First define object for Greater Helsinki\n",
    "\n",
    "ax1 = df['Greater Helsinki'].plot(color = 'C0', title = 'Price per square meters of old dwellings')\n",
    "\n",
    "plt.ylabel('Greater Helsinki area', color = 'C0', fontsize = 14)\n",
    "\n",
    "### Then add another on top of this object\n",
    "\n",
    "ax2 = ax1.twinx()\n",
    "\n",
    "df['Outside Greater Helsinki'].plot(ax = ax2, color = 'C1')\n",
    "\n",
    "plt.ylabel('Outside Greater Helsinki area', color = 'C1', fontsize = 14)"
   ]
  },
  {
   "cell_type": "markdown",
   "id": "da7af70f",
   "metadata": {},
   "source": [
    "Source and origin of inspiration:<br /> \n",
    "Aki Taanila: Data-analytiikka Pythonilla: <a href=\"https://tilastoapu.wordpress.com/python/\">https://tilastoapu.wordpress.com/python/</a>"
   ]
  }
 ],
 "metadata": {
  "kernelspec": {
   "display_name": "Python 3",
   "language": "python",
   "name": "python3"
  },
  "language_info": {
   "codemirror_mode": {
    "name": "ipython",
    "version": 3
   },
   "file_extension": ".py",
   "mimetype": "text/x-python",
   "name": "python",
   "nbconvert_exporter": "python",
   "pygments_lexer": "ipython3",
   "version": "3.7.11"
  }
 },
 "nbformat": 4,
 "nbformat_minor": 5
}
