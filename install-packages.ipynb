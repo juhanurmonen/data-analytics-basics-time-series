{
 "cells": [
  {
   "cell_type": "markdown",
   "id": "388598f3",
   "metadata": {},
   "source": [
    "# Install packages "
   ]
  },
  {
   "cell_type": "markdown",
   "id": "a877d983",
   "metadata": {},
   "source": [
    "Not all Python's libraries are available in the standard distribution of Anaconda. Some other packages may have to be installed before use.  "
   ]
  },
  {
   "cell_type": "markdown",
   "id": "021ad377",
   "metadata": {},
   "source": [
    "Installing packages can be done using \n",
    "- Anaconda Prompt\n",
    "- Anaconda Navigator"
   ]
  },
  {
   "cell_type": "markdown",
   "id": "041bf025",
   "metadata": {},
   "source": [
    "From Start menu you find Anaconda resources, including Anaconda Prompt and Anaconda Navigator."
   ]
  },
  {
   "cell_type": "markdown",
   "id": "78b056ac",
   "metadata": {},
   "source": [
    "<img src=\"http://myy.haaga-helia.fi/~menetelmat/Data-analytiikka/Anaconda-menu.png\">"
   ]
  },
  {
   "cell_type": "markdown",
   "id": "ec7de585",
   "metadata": {},
   "source": [
    "In this note we install **pandas-datareader**. Operating system of the example is Windows 10."
   ]
  },
  {
   "cell_type": "markdown",
   "id": "7952691c",
   "metadata": {},
   "source": [
    "## Anaconda Prompt"
   ]
  },
  {
   "cell_type": "markdown",
   "id": "73af2764",
   "metadata": {},
   "source": [
    "Using Anaconda Prompt, you install **pandas-datareader** by running the command"
   ]
  },
  {
   "cell_type": "markdown",
   "id": "7d6ff73c",
   "metadata": {},
   "source": [
    "<center>\n",
    "conda install pandas-datareader\n",
    "</center>"
   ]
  },
  {
   "cell_type": "markdown",
   "id": "44622bfa",
   "metadata": {},
   "source": [
    "## Anaconda Navigator"
   ]
  },
  {
   "cell_type": "markdown",
   "id": "29b8b981",
   "metadata": {},
   "source": [
    "Anaconda Navigator is a useful tool for maniging and processing libraries. You can install a new library in the following way."
   ]
  },
  {
   "cell_type": "markdown",
   "id": "ea56e6a5",
   "metadata": {},
   "source": [
    "- Open Anaconda Navigator and choose Environments in the left panel.\n",
    "- If pandas-datareader is not found in the list of Installed, select the list Not installed.\n",
    "- If pandas-datareader is not in this list either, update the list (Update index).\n",
    "- You can also use the search field in order to shorten the list of packages.\n",
    "- Choose pandas-datareader and in the bottom of the window select Apply."
   ]
  },
  {
   "cell_type": "markdown",
   "id": "8f5ceb6a",
   "metadata": {},
   "source": [
    "<img src=\"http://myy.haaga-helia.fi/~menetelmat/Data-analytiikka/Anaconda-Navigator.png\">"
   ]
  },
  {
   "cell_type": "markdown",
   "id": "b3f60adb",
   "metadata": {},
   "source": [
    "## Case Google Colaboratory"
   ]
  },
  {
   "cell_type": "markdown",
   "id": "08152395",
   "metadata": {},
   "source": [
    "Installing **pandas-datareader** in Google Colaboratory is not usually necessary. But if libraries of the cloud service are not up to date, extra effort is needed."
   ]
  },
  {
   "cell_type": "markdown",
   "id": "59a487da",
   "metadata": {},
   "source": [
    "First, we install new version of the **pandas** library and **pandas-datareader** library: "
   ]
  },
  {
   "cell_type": "markdown",
   "id": "e32c15b1",
   "metadata": {},
   "source": [
    "<center>\n",
    "<DL>\n",
    "    <DD>    !pip install --upgrade pandas </DD>\n",
    "    <DD>    !pip install --upgrade pandas-datareader </DD>\n",
    "</DL>\n",
    "</center>"
   ]
  },
  {
   "cell_type": "markdown",
   "id": "609d843b",
   "metadata": {},
   "source": [
    "<img src=\"http://myy.haaga-helia.fi/~menetelmat/Data-analytiikka/Colab-install-datareader.png\">"
   ]
  },
  {
   "cell_type": "markdown",
   "id": "ab06b450",
   "metadata": {},
   "source": [
    "Once this cell is run, a list of messages appears on the screen. One warning message urges us to restart the runtime in order to create a new one with newly installed **pandas** and **pandas-datareader** libraries. "
   ]
  },
  {
   "cell_type": "markdown",
   "id": "3d6ea198",
   "metadata": {},
   "source": [
    "<img src=\"http://myy.haaga-helia.fi/~menetelmat/Data-analytiikka/Colab-restart-runtime.png\">"
   ]
  },
  {
   "cell_type": "markdown",
   "id": "899387dc",
   "metadata": {},
   "source": [
    "Once restarted, everything should be ready for analyzing data with Python."
   ]
  },
  {
   "cell_type": "markdown",
   "id": "2fd8f62c",
   "metadata": {},
   "source": [
    "Source and origin of inspiration:\n",
    "Aki Taanila: <a href=\"https://tilastoapu.wordpress.com/python\">Data-analytiikka Pythonilla</a>"
   ]
  }
 ],
 "metadata": {
  "kernelspec": {
   "display_name": "Python 3",
   "language": "python",
   "name": "python3"
  },
  "language_info": {
   "codemirror_mode": {
    "name": "ipython",
    "version": 3
   },
   "file_extension": ".py",
   "mimetype": "text/x-python",
   "name": "python",
   "nbconvert_exporter": "python",
   "pygments_lexer": "ipython3",
   "version": "3.7.11"
  }
 },
 "nbformat": 4,
 "nbformat_minor": 5
}
